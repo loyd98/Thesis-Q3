{
 "cells": [
  {
   "cell_type": "code",
   "execution_count": 1,
   "metadata": {},
   "outputs": [],
   "source": [
    "import pandas as pd\n",
    "import numpy as np\n",
    "import ast\n",
    "\n",
    "from nrclex import NRCLex\n",
    "from sklearn import utils\n",
    "from sklearn.feature_extraction.text import TfidfVectorizer\n",
    "from sklearn.feature_extraction.text import TfidfTransformer\n",
    "from sklearn.linear_model import LogisticRegression\n",
    "from sklearn import model_selection, naive_bayes, svm\n",
    "from sklearn.metrics import accuracy_score\n",
    "from sklearn.preprocessing import LabelEncoder\n",
    "from sklearn.metrics import classification_report"
   ]
  },
  {
   "cell_type": "code",
   "execution_count": 2,
   "metadata": {},
   "outputs": [],
   "source": [
    "from nltk.corpus import stopwords\n",
    "stopwords = stopwords.words('english')"
   ]
  },
  {
   "cell_type": "code",
   "execution_count": 3,
   "metadata": {},
   "outputs": [
    {
     "name": "stderr",
     "output_type": "stream",
     "text": [
      "[nltk_data] Error loading vader_lexicon: <urlopen error [SSL:\n",
      "[nltk_data]     CERTIFICATE_VERIFY_FAILED] certificate verify failed:\n",
      "[nltk_data]     unable to get local issuer certificate (_ssl.c:1076)>\n"
     ]
    }
   ],
   "source": [
    "import nltk\n",
    "nltk.download('vader_lexicon')\n",
    "from nltk.sentiment.vader import SentimentIntensityAnalyzer\n",
    "\n",
    "sid = SentimentIntensityAnalyzer()"
   ]
  },
  {
   "cell_type": "code",
   "execution_count": 4,
   "metadata": {},
   "outputs": [],
   "source": [
    "df = pd.read_csv(\"./Dataset Creation/well-narratives.csv\")"
   ]
  },
  {
   "cell_type": "markdown",
   "metadata": {},
   "source": [
    "# Cleaning"
   ]
  },
  {
   "cell_type": "code",
   "execution_count": 5,
   "metadata": {},
   "outputs": [],
   "source": [
    "def clean_text(df, column_name):\n",
    "    df['cleaned_text'] = df[column_name].fillna('')\n",
    "    df['cleaned_text'] = df['cleaned_text'].str.lower()\n",
    "    df['cleaned_text'] = df['cleaned_text'].str.replace(r'(@[A-Za-z0-9]+)|([^0-9A-Za-z \\t])|(\\w+:\\/\\/\\S+)|rt|\\d+', '')\n",
    "    df['cleaned_text'] = df['cleaned_text'].str.replace(r'^\\s+|\\s+$', '') \n",
    "    df['cleaned_text'] = df['cleaned_text'].apply(lambda x: ' '.join([w for w in x.split() if w not in (stopwords)]))\n",
    "    return df"
   ]
  },
  {
   "cell_type": "code",
   "execution_count": 6,
   "metadata": {},
   "outputs": [],
   "source": [
    "df_cleaned = clean_text(df, \"sentence\")"
   ]
  },
  {
   "cell_type": "markdown",
   "metadata": {},
   "source": [
    "# Tagging"
   ]
  },
  {
   "cell_type": "code",
   "execution_count": 7,
   "metadata": {},
   "outputs": [],
   "source": [
    "def tag_sentiment(string):\n",
    "    result = sid.polarity_scores(string)\n",
    "    if (result['compound'] > 0):\n",
    "        return \"POS\"\n",
    "    elif (result['compound'] == 0):\n",
    "        return \"NEU\"\n",
    "    else:\n",
    "        return \"NEG\""
   ]
  },
  {
   "cell_type": "code",
   "execution_count": 8,
   "metadata": {},
   "outputs": [],
   "source": [
    "df_cleaned[\"sentiment_tag\"] = df_cleaned[\"cleaned_text\"].apply(lambda x : tag_sentiment(x))"
   ]
  },
  {
   "cell_type": "markdown",
   "metadata": {},
   "source": [
    "# Results"
   ]
  },
  {
   "cell_type": "code",
   "execution_count": 9,
   "metadata": {},
   "outputs": [
    {
     "data": {
      "text/plain": [
       "POS    1415\n",
       "NEU     797\n",
       "NEG     164\n",
       "Name: sentiment_tag, dtype: int64"
      ]
     },
     "execution_count": 9,
     "metadata": {},
     "output_type": "execute_result"
    }
   ],
   "source": [
    "df_cleaned['sentiment_tag'].value_counts()"
   ]
  },
  {
   "cell_type": "code",
   "execution_count": 10,
   "metadata": {},
   "outputs": [
    {
     "data": {
      "text/html": [
       "<div>\n",
       "<style scoped>\n",
       "    .dataframe tbody tr th:only-of-type {\n",
       "        vertical-align: middle;\n",
       "    }\n",
       "\n",
       "    .dataframe tbody tr th {\n",
       "        vertical-align: top;\n",
       "    }\n",
       "\n",
       "    .dataframe thead th {\n",
       "        text-align: right;\n",
       "    }\n",
       "</style>\n",
       "<table border=\"1\" class=\"dataframe\">\n",
       "  <thead>\n",
       "    <tr style=\"text-align: right;\">\n",
       "      <th></th>\n",
       "      <th>Unnamed: 0</th>\n",
       "      <th>Unnamed: 0.1</th>\n",
       "      <th>Unnamed: 0.1.1</th>\n",
       "      <th>hmid</th>\n",
       "      <th>wid</th>\n",
       "      <th>reflection_period</th>\n",
       "      <th>original_hm</th>\n",
       "      <th>modified</th>\n",
       "      <th>num_sentence</th>\n",
       "      <th>ground_truth_category</th>\n",
       "      <th>predicted_category</th>\n",
       "      <th>match</th>\n",
       "      <th>sentence</th>\n",
       "      <th>cleaned_text</th>\n",
       "      <th>sentiment_tag</th>\n",
       "    </tr>\n",
       "  </thead>\n",
       "  <tbody>\n",
       "    <tr>\n",
       "      <th>0</th>\n",
       "      <td>893</td>\n",
       "      <td>3235</td>\n",
       "      <td>2706</td>\n",
       "      <td>30396.0</td>\n",
       "      <td>3304.0</td>\n",
       "      <td>24h</td>\n",
       "      <td>I was happy when I got my driver's license ren...</td>\n",
       "      <td>True</td>\n",
       "      <td>2.0</td>\n",
       "      <td>NaN</td>\n",
       "      <td>achievement</td>\n",
       "      <td>1.0</td>\n",
       "      <td>It had been months since they were expired.</td>\n",
       "      <td>months since expired</td>\n",
       "      <td>NEU</td>\n",
       "    </tr>\n",
       "    <tr>\n",
       "      <th>1</th>\n",
       "      <td>1056</td>\n",
       "      <td>23577</td>\n",
       "      <td>19134</td>\n",
       "      <td>46915.0</td>\n",
       "      <td>1458.0</td>\n",
       "      <td>24h</td>\n",
       "      <td>I actually got a chance at love again. My ex f...</td>\n",
       "      <td>True</td>\n",
       "      <td>3.0</td>\n",
       "      <td>NaN</td>\n",
       "      <td>affection</td>\n",
       "      <td>1.0</td>\n",
       "      <td>My ex from high school came to town and showed...</td>\n",
       "      <td>ex high school came town showed great time cha...</td>\n",
       "      <td>POS</td>\n",
       "    </tr>\n",
       "    <tr>\n",
       "      <th>2</th>\n",
       "      <td>1139</td>\n",
       "      <td>2470</td>\n",
       "      <td>2170</td>\n",
       "      <td>29858.0</td>\n",
       "      <td>10726.0</td>\n",
       "      <td>24h</td>\n",
       "      <td>Last month, I got selection in a Government Ex...</td>\n",
       "      <td>True</td>\n",
       "      <td>1.0</td>\n",
       "      <td>NaN</td>\n",
       "      <td>achievement</td>\n",
       "      <td>1.0</td>\n",
       "      <td>That moment of joy I cannot really express.</td>\n",
       "      <td>moment joy cannot really express</td>\n",
       "      <td>POS</td>\n",
       "    </tr>\n",
       "    <tr>\n",
       "      <th>3</th>\n",
       "      <td>206</td>\n",
       "      <td>14320</td>\n",
       "      <td>11257</td>\n",
       "      <td>38999.0</td>\n",
       "      <td>916.0</td>\n",
       "      <td>24h</td>\n",
       "      <td>I went to the gym and had a good workout.</td>\n",
       "      <td>True</td>\n",
       "      <td>1.0</td>\n",
       "      <td>NaN</td>\n",
       "      <td>exercise</td>\n",
       "      <td>0.0</td>\n",
       "      <td>I went to the gym and had a good workout.</td>\n",
       "      <td>went gym good workout</td>\n",
       "      <td>POS</td>\n",
       "    </tr>\n",
       "    <tr>\n",
       "      <th>4</th>\n",
       "      <td>1184</td>\n",
       "      <td>9569</td>\n",
       "      <td>7579</td>\n",
       "      <td>35307.0</td>\n",
       "      <td>1929.0</td>\n",
       "      <td>24h</td>\n",
       "      <td>I went to a new italian restaurant that recent...</td>\n",
       "      <td>True</td>\n",
       "      <td>4.0</td>\n",
       "      <td>NaN</td>\n",
       "      <td>enjoy_the_moment</td>\n",
       "      <td>0.0</td>\n",
       "      <td>I went to a new italian restaurant that recent...</td>\n",
       "      <td>went new italian restaurant recently opened</td>\n",
       "      <td>NEU</td>\n",
       "    </tr>\n",
       "  </tbody>\n",
       "</table>\n",
       "</div>"
      ],
      "text/plain": [
       "   Unnamed: 0  Unnamed: 0.1  Unnamed: 0.1.1     hmid      wid  \\\n",
       "0         893          3235            2706  30396.0   3304.0   \n",
       "1        1056         23577           19134  46915.0   1458.0   \n",
       "2        1139          2470            2170  29858.0  10726.0   \n",
       "3         206         14320           11257  38999.0    916.0   \n",
       "4        1184          9569            7579  35307.0   1929.0   \n",
       "\n",
       "  reflection_period                                        original_hm  \\\n",
       "0               24h  I was happy when I got my driver's license ren...   \n",
       "1               24h  I actually got a chance at love again. My ex f...   \n",
       "2               24h  Last month, I got selection in a Government Ex...   \n",
       "3               24h          I went to the gym and had a good workout.   \n",
       "4               24h  I went to a new italian restaurant that recent...   \n",
       "\n",
       "   modified  num_sentence ground_truth_category predicted_category  match  \\\n",
       "0      True           2.0                   NaN        achievement    1.0   \n",
       "1      True           3.0                   NaN          affection    1.0   \n",
       "2      True           1.0                   NaN        achievement    1.0   \n",
       "3      True           1.0                   NaN           exercise    0.0   \n",
       "4      True           4.0                   NaN   enjoy_the_moment    0.0   \n",
       "\n",
       "                                            sentence  \\\n",
       "0        It had been months since they were expired.   \n",
       "1  My ex from high school came to town and showed...   \n",
       "2        That moment of joy I cannot really express.   \n",
       "3          I went to the gym and had a good workout.   \n",
       "4  I went to a new italian restaurant that recent...   \n",
       "\n",
       "                                        cleaned_text sentiment_tag  \n",
       "0                               months since expired           NEU  \n",
       "1  ex high school came town showed great time cha...           POS  \n",
       "2                   moment joy cannot really express           POS  \n",
       "3                              went gym good workout           POS  \n",
       "4        went new italian restaurant recently opened           NEU  "
      ]
     },
     "execution_count": 10,
     "metadata": {},
     "output_type": "execute_result"
    }
   ],
   "source": [
    "df.head()"
   ]
  },
  {
   "cell_type": "markdown",
   "metadata": {},
   "source": [
    "# Filtering"
   ]
  },
  {
   "cell_type": "code",
   "execution_count": 11,
   "metadata": {},
   "outputs": [],
   "source": [
    "def filter_sentiment(row):\n",
    "    text_object = NRCLex(row[\"cleaned_text\"])\n",
    "    return str(text_object.affect_frequencies)"
   ]
  },
  {
   "cell_type": "code",
   "execution_count": 12,
   "metadata": {},
   "outputs": [],
   "source": [
    "df_cleaned[\"sentiments\"] = df_cleaned.apply(filter_sentiment, axis = 1)"
   ]
  },
  {
   "cell_type": "code",
   "execution_count": 13,
   "metadata": {},
   "outputs": [
    {
     "data": {
      "text/html": [
       "<div>\n",
       "<style scoped>\n",
       "    .dataframe tbody tr th:only-of-type {\n",
       "        vertical-align: middle;\n",
       "    }\n",
       "\n",
       "    .dataframe tbody tr th {\n",
       "        vertical-align: top;\n",
       "    }\n",
       "\n",
       "    .dataframe thead th {\n",
       "        text-align: right;\n",
       "    }\n",
       "</style>\n",
       "<table border=\"1\" class=\"dataframe\">\n",
       "  <thead>\n",
       "    <tr style=\"text-align: right;\">\n",
       "      <th></th>\n",
       "      <th>Unnamed: 0</th>\n",
       "      <th>Unnamed: 0.1</th>\n",
       "      <th>Unnamed: 0.1.1</th>\n",
       "      <th>hmid</th>\n",
       "      <th>wid</th>\n",
       "      <th>reflection_period</th>\n",
       "      <th>original_hm</th>\n",
       "      <th>modified</th>\n",
       "      <th>num_sentence</th>\n",
       "      <th>ground_truth_category</th>\n",
       "      <th>predicted_category</th>\n",
       "      <th>match</th>\n",
       "      <th>sentence</th>\n",
       "      <th>cleaned_text</th>\n",
       "      <th>sentiment_tag</th>\n",
       "      <th>sentiments</th>\n",
       "    </tr>\n",
       "  </thead>\n",
       "  <tbody>\n",
       "    <tr>\n",
       "      <th>0</th>\n",
       "      <td>893</td>\n",
       "      <td>3235</td>\n",
       "      <td>2706</td>\n",
       "      <td>30396.0</td>\n",
       "      <td>3304.0</td>\n",
       "      <td>24h</td>\n",
       "      <td>I was happy when I got my driver's license ren...</td>\n",
       "      <td>True</td>\n",
       "      <td>2.0</td>\n",
       "      <td>NaN</td>\n",
       "      <td>achievement</td>\n",
       "      <td>1.0</td>\n",
       "      <td>It had been months since they were expired.</td>\n",
       "      <td>months since expired</td>\n",
       "      <td>NEU</td>\n",
       "      <td>{'fear': 0.0, 'anger': 0.0, 'anticip': 0.0, 't...</td>\n",
       "    </tr>\n",
       "    <tr>\n",
       "      <th>1</th>\n",
       "      <td>1056</td>\n",
       "      <td>23577</td>\n",
       "      <td>19134</td>\n",
       "      <td>46915.0</td>\n",
       "      <td>1458.0</td>\n",
       "      <td>24h</td>\n",
       "      <td>I actually got a chance at love again. My ex f...</td>\n",
       "      <td>True</td>\n",
       "      <td>3.0</td>\n",
       "      <td>NaN</td>\n",
       "      <td>affection</td>\n",
       "      <td>1.0</td>\n",
       "      <td>My ex from high school came to town and showed...</td>\n",
       "      <td>ex high school came town showed great time cha...</td>\n",
       "      <td>POS</td>\n",
       "      <td>{'fear': 0.0, 'anger': 0.0, 'anticip': 0.0, 't...</td>\n",
       "    </tr>\n",
       "    <tr>\n",
       "      <th>2</th>\n",
       "      <td>1139</td>\n",
       "      <td>2470</td>\n",
       "      <td>2170</td>\n",
       "      <td>29858.0</td>\n",
       "      <td>10726.0</td>\n",
       "      <td>24h</td>\n",
       "      <td>Last month, I got selection in a Government Ex...</td>\n",
       "      <td>True</td>\n",
       "      <td>1.0</td>\n",
       "      <td>NaN</td>\n",
       "      <td>achievement</td>\n",
       "      <td>1.0</td>\n",
       "      <td>That moment of joy I cannot really express.</td>\n",
       "      <td>moment joy cannot really express</td>\n",
       "      <td>POS</td>\n",
       "      <td>{'fear': 0.0, 'anger': 0.0, 'anticip': 0.0, 't...</td>\n",
       "    </tr>\n",
       "    <tr>\n",
       "      <th>3</th>\n",
       "      <td>206</td>\n",
       "      <td>14320</td>\n",
       "      <td>11257</td>\n",
       "      <td>38999.0</td>\n",
       "      <td>916.0</td>\n",
       "      <td>24h</td>\n",
       "      <td>I went to the gym and had a good workout.</td>\n",
       "      <td>True</td>\n",
       "      <td>1.0</td>\n",
       "      <td>NaN</td>\n",
       "      <td>exercise</td>\n",
       "      <td>0.0</td>\n",
       "      <td>I went to the gym and had a good workout.</td>\n",
       "      <td>went gym good workout</td>\n",
       "      <td>POS</td>\n",
       "      <td>{'fear': 0.0, 'anger': 0.0, 'anticip': 0.0, 't...</td>\n",
       "    </tr>\n",
       "    <tr>\n",
       "      <th>4</th>\n",
       "      <td>1184</td>\n",
       "      <td>9569</td>\n",
       "      <td>7579</td>\n",
       "      <td>35307.0</td>\n",
       "      <td>1929.0</td>\n",
       "      <td>24h</td>\n",
       "      <td>I went to a new italian restaurant that recent...</td>\n",
       "      <td>True</td>\n",
       "      <td>4.0</td>\n",
       "      <td>NaN</td>\n",
       "      <td>enjoy_the_moment</td>\n",
       "      <td>0.0</td>\n",
       "      <td>I went to a new italian restaurant that recent...</td>\n",
       "      <td>went new italian restaurant recently opened</td>\n",
       "      <td>NEU</td>\n",
       "      <td>{'fear': 0.0, 'anger': 0.0, 'anticip': 0.0, 't...</td>\n",
       "    </tr>\n",
       "  </tbody>\n",
       "</table>\n",
       "</div>"
      ],
      "text/plain": [
       "   Unnamed: 0  Unnamed: 0.1  Unnamed: 0.1.1     hmid      wid  \\\n",
       "0         893          3235            2706  30396.0   3304.0   \n",
       "1        1056         23577           19134  46915.0   1458.0   \n",
       "2        1139          2470            2170  29858.0  10726.0   \n",
       "3         206         14320           11257  38999.0    916.0   \n",
       "4        1184          9569            7579  35307.0   1929.0   \n",
       "\n",
       "  reflection_period                                        original_hm  \\\n",
       "0               24h  I was happy when I got my driver's license ren...   \n",
       "1               24h  I actually got a chance at love again. My ex f...   \n",
       "2               24h  Last month, I got selection in a Government Ex...   \n",
       "3               24h          I went to the gym and had a good workout.   \n",
       "4               24h  I went to a new italian restaurant that recent...   \n",
       "\n",
       "   modified  num_sentence ground_truth_category predicted_category  match  \\\n",
       "0      True           2.0                   NaN        achievement    1.0   \n",
       "1      True           3.0                   NaN          affection    1.0   \n",
       "2      True           1.0                   NaN        achievement    1.0   \n",
       "3      True           1.0                   NaN           exercise    0.0   \n",
       "4      True           4.0                   NaN   enjoy_the_moment    0.0   \n",
       "\n",
       "                                            sentence  \\\n",
       "0        It had been months since they were expired.   \n",
       "1  My ex from high school came to town and showed...   \n",
       "2        That moment of joy I cannot really express.   \n",
       "3          I went to the gym and had a good workout.   \n",
       "4  I went to a new italian restaurant that recent...   \n",
       "\n",
       "                                        cleaned_text sentiment_tag  \\\n",
       "0                               months since expired           NEU   \n",
       "1  ex high school came town showed great time cha...           POS   \n",
       "2                   moment joy cannot really express           POS   \n",
       "3                              went gym good workout           POS   \n",
       "4        went new italian restaurant recently opened           NEU   \n",
       "\n",
       "                                          sentiments  \n",
       "0  {'fear': 0.0, 'anger': 0.0, 'anticip': 0.0, 't...  \n",
       "1  {'fear': 0.0, 'anger': 0.0, 'anticip': 0.0, 't...  \n",
       "2  {'fear': 0.0, 'anger': 0.0, 'anticip': 0.0, 't...  \n",
       "3  {'fear': 0.0, 'anger': 0.0, 'anticip': 0.0, 't...  \n",
       "4  {'fear': 0.0, 'anger': 0.0, 'anticip': 0.0, 't...  "
      ]
     },
     "execution_count": 13,
     "metadata": {},
     "output_type": "execute_result"
    }
   ],
   "source": [
    "df_cleaned.head()"
   ]
  },
  {
   "cell_type": "markdown",
   "metadata": {},
   "source": [
    "# SVM Model"
   ]
  },
  {
   "cell_type": "code",
   "execution_count": 14,
   "metadata": {},
   "outputs": [],
   "source": [
    "sentiments = pd.DataFrame(columns=['cleaned_text', 'tag', 'fear', 'anger', 'anticipation', 'trust', 'surprise', \n",
    "                                   'positive', 'negative', 'sadness', 'disgust', 'joy'])"
   ]
  },
  {
   "cell_type": "code",
   "execution_count": 15,
   "metadata": {},
   "outputs": [],
   "source": [
    "for index, row in df_cleaned.iterrows():\n",
    "    narrative = row['cleaned_text']\n",
    "    tag = row['sentiment_tag']\n",
    "    breakdown = ast.literal_eval(row['sentiments'])\n",
    "    \n",
    "    breakdown['cleaned_text'] = narrative\n",
    "    breakdown['tag'] = tag\n",
    "    sentiments = sentiments.append(breakdown, ignore_index=True)"
   ]
  },
  {
   "cell_type": "code",
   "execution_count": 16,
   "metadata": {},
   "outputs": [],
   "source": [
    "sentiments = sentiments.replace(np.nan, 0)"
   ]
  },
  {
   "cell_type": "code",
   "execution_count": 17,
   "metadata": {},
   "outputs": [],
   "source": [
    "Train_X, Test_X, Train_Y, Test_Y = model_selection.train_test_split(sentiments[['fear', 'anger', 'anticipation', 'trust', 'surprise', \n",
    "                                   'positive', 'negative', 'sadness', 'disgust', 'joy']],sentiments['tag'],test_size=0.3,random_state=42)"
   ]
  },
  {
   "cell_type": "code",
   "execution_count": 18,
   "metadata": {},
   "outputs": [
    {
     "data": {
      "text/plain": [
       "SVC(gamma='auto', kernel='linear')"
      ]
     },
     "execution_count": 18,
     "metadata": {},
     "output_type": "execute_result"
    }
   ],
   "source": [
    "SVM = svm.SVC(C=1.0, kernel='linear', degree=3, gamma='auto')\n",
    "SVM.fit(Train_X,Train_Y)"
   ]
  },
  {
   "cell_type": "code",
   "execution_count": 19,
   "metadata": {},
   "outputs": [
    {
     "name": "stdout",
     "output_type": "stream",
     "text": [
      "SVM Accuracy Score:  62.833099579242635\n"
     ]
    }
   ],
   "source": [
    "predictions_SVM = SVM.predict(Test_X)\n",
    "print(\"SVM Accuracy Score: \",accuracy_score(predictions_SVM, Test_Y)*100)"
   ]
  },
  {
   "cell_type": "code",
   "execution_count": 20,
   "metadata": {},
   "outputs": [
    {
     "name": "stdout",
     "output_type": "stream",
     "text": [
      "              precision    recall  f1-score   support\n",
      "\n",
      "         NEG       0.00      0.00      0.00        65\n",
      "         NEU       0.59      0.43      0.50       238\n",
      "         POS       0.64      0.84      0.73       410\n",
      "\n",
      "    accuracy                           0.63       713\n",
      "   macro avg       0.41      0.42      0.41       713\n",
      "weighted avg       0.56      0.63      0.59       713\n",
      "\n"
     ]
    },
    {
     "name": "stderr",
     "output_type": "stream",
     "text": [
      "/Library/Frameworks/Python.framework/Versions/3.7/lib/python3.7/site-packages/sklearn/metrics/_classification.py:1221: UndefinedMetricWarning: Precision and F-score are ill-defined and being set to 0.0 in labels with no predicted samples. Use `zero_division` parameter to control this behavior.\n",
      "  _warn_prf(average, modifier, msg_start, len(result))\n"
     ]
    }
   ],
   "source": [
    "print(classification_report(Test_Y, predictions_SVM))"
   ]
  },
  {
   "cell_type": "markdown",
   "metadata": {},
   "source": [
    "# Naive Bayes"
   ]
  },
  {
   "cell_type": "code",
   "execution_count": 22,
   "metadata": {},
   "outputs": [
    {
     "name": "stdout",
     "output_type": "stream",
     "text": [
      "Naive Bayes Accuracy Score:  57.503506311360454\n"
     ]
    }
   ],
   "source": [
    "Naive = naive_bayes.MultinomialNB()\n",
    "Naive.fit(Train_X,Train_Y)\n",
    "\n",
    "predictions_NB = Naive.predict(Test_X)\n",
    "\n",
    "print(\"Naive Bayes Accuracy Score: \", accuracy_score(predictions_NB, Test_Y)*100)"
   ]
  },
  {
   "cell_type": "code",
   "execution_count": 23,
   "metadata": {},
   "outputs": [
    {
     "name": "stdout",
     "output_type": "stream",
     "text": [
      "              precision    recall  f1-score   support\n",
      "\n",
      "         NEG       0.00      0.00      0.00        65\n",
      "         NEU       0.00      0.00      0.00       238\n",
      "         POS       0.58      1.00      0.73       410\n",
      "\n",
      "    accuracy                           0.58       713\n",
      "   macro avg       0.19      0.33      0.24       713\n",
      "weighted avg       0.33      0.58      0.42       713\n",
      "\n"
     ]
    },
    {
     "name": "stderr",
     "output_type": "stream",
     "text": [
      "/Library/Frameworks/Python.framework/Versions/3.7/lib/python3.7/site-packages/sklearn/metrics/_classification.py:1221: UndefinedMetricWarning: Precision and F-score are ill-defined and being set to 0.0 in labels with no predicted samples. Use `zero_division` parameter to control this behavior.\n",
      "  _warn_prf(average, modifier, msg_start, len(result))\n"
     ]
    }
   ],
   "source": [
    "print(classification_report(Test_Y, predictions_NB))"
   ]
  },
  {
   "cell_type": "code",
   "execution_count": null,
   "metadata": {},
   "outputs": [],
   "source": []
  }
 ],
 "metadata": {
  "kernelspec": {
   "display_name": "Python 3",
   "language": "python",
   "name": "python3"
  },
  "language_info": {
   "codemirror_mode": {
    "name": "ipython",
    "version": 3
   },
   "file_extension": ".py",
   "mimetype": "text/x-python",
   "name": "python",
   "nbconvert_exporter": "python",
   "pygments_lexer": "ipython3",
   "version": "3.7.4"
  }
 },
 "nbformat": 4,
 "nbformat_minor": 4
}
