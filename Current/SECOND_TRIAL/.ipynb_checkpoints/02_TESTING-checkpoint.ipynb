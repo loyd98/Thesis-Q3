{
 "cells": [
  {
   "cell_type": "code",
   "execution_count": 35,
   "metadata": {},
   "outputs": [],
   "source": [
    "import pandas as pd\n",
    "import numpy as np\n",
    "from tqdm import tqdm\n",
    "import seaborn as sns\n",
    "import matplotlib.pyplot as plt\n",
    "import joblib\n",
    "\n",
    "from sklearn import utils\n",
    "from sklearn.feature_extraction.text import TfidfVectorizer\n",
    "from sklearn.feature_extraction.text import TfidfTransformer\n",
    "from sklearn.linear_model import LogisticRegression\n",
    "from sklearn import model_selection, naive_bayes, svm\n",
    "from sklearn.metrics import accuracy_score\n",
    "from sklearn.preprocessing import LabelEncoder\n",
    "from sklearn.metrics import classification_report\n",
    "\n",
    "import nltk\n",
    "from nltk.tokenize import word_tokenize\n",
    "from nltk.corpus import stopwords\n",
    "stopwords = stopwords.words('english')\n",
    "\n",
    "from gensim.models.doc2vec import Doc2Vec, TaggedDocument\n",
    "\n",
    "#Text Analysis\n",
    "import pandas as pd\n",
    "import seaborn as sns\n",
    "import matplotlib.pyplot as plt\n",
    "import matplotlib.style as style\n",
    "from textblob import TextBlob as tb\n",
    "from IPython.display import Image as im\n",
    "style.use('fivethirtyeight')"
   ]
  },
  {
   "cell_type": "code",
   "execution_count": 36,
   "metadata": {},
   "outputs": [],
   "source": [
    "# SVM model imports\n",
    "model_doc = joblib.load(\"./Exported_Models/01_svm_model.pkl\")\n",
    "model_beh = joblib.load(\"./Exported_Models/02_svm_model.pkl\")\n",
    "model_emo = joblib.load(\"./Exported_Models/03_svm_model.pkl\")\n",
    "\n",
    "# Doc2Vec model imports\n",
    "doc2vec_doc = Doc2Vec.load(\"./Exported_Models/doc2vec.model\")\n",
    "doc2vec_beh = Doc2Vec.load(\"./Exported_Models/behavioral.model\")\n",
    "\n",
    "#test imports\n",
    "X_test = joblib.load(\"./Exported_Models/X_test.pkl\")\n",
    "y_test = joblib.load(\"./Exported_Models/y_test.pkl\")\n",
    "test = joblib.load(\"./Exported_Models/test.pkl\")"
   ]
  },
  {
   "cell_type": "markdown",
   "metadata": {},
   "source": [
    "doc ---> 1st model (leftmost)\n",
    "beh ---> 2nd model (middle)\n",
    "emo ---> 3rd model (rightmost)"
   ]
  },
  {
   "cell_type": "code",
   "execution_count": 13,
   "metadata": {},
   "outputs": [],
   "source": [
    "%run './Utils/COMBINED.ipynb'"
   ]
  },
  {
   "cell_type": "code",
   "execution_count": 42,
   "metadata": {},
   "outputs": [],
   "source": [
    "def tokenize_text(text):\n",
    "    tokens = []\n",
    "    for sent in nltk.sent_tokenize(text):\n",
    "        for word in nltk.word_tokenize(sent):\n",
    "            if len(word) < 2:\n",
    "                continue\n",
    "            tokens.append(word.lower())\n",
    "    return tokens\n",
    "\n",
    "def get_behaviors_string(string):\n",
    "    if not string: return \"\"\n",
    "    \n",
    "    string = re.sub(r'[^\\w]', ' ', string)\n",
    "    \n",
    "    res = \"\"\n",
    "    \n",
    "    dic = get_behavior_breakdown(string)\n",
    "\n",
    "    \n",
    "    for key in dic:\n",
    "        arr = dic[key]\n",
    "        for i in arr:\n",
    "            res += i + \" \"\n",
    "        res += key + \" \"\n",
    "        \n",
    "        \n",
    "    return res\n",
    "\n",
    "def doc_infer_vector(string):\n",
    "    li = tokenize_text(string)\n",
    "    \n",
    "    return doc2vec_doc.infer_vector(li)\n",
    "\n",
    "def beh_infer_vector(string):\n",
    "    string = get_behaviors_string(string)\n",
    "    \n",
    "    li = tokenize_text(string)\n",
    "    \n",
    "    return doc2vec_beh.infer_vector(li)\n",
    "\n",
    "def emo_infer_freq(string):\n",
    "    freq = get_sentiment_breakdown(string)\n",
    "    df = pd.DataFrame(columns=[\"negative\", \"positive\", \"fear\", \"anger\", \"trust\", \"sadness\", \"disgust\", \"anticip\", \"surprise\", \"joy\", \"anticipation\"])\n",
    "    df = df.append(freq, ignore_index=True)\n",
    "    df = df.fillna(0)\n",
    "    return df.iloc[0].tolist()"
   ]
  },
  {
   "cell_type": "code",
   "execution_count": 38,
   "metadata": {},
   "outputs": [],
   "source": [
    "test[\"doc_vec\"] = test.cleaned_text.apply(lambda x: doc_infer_vector(x))\n",
    "test[\"beh_vec\"] = test.cleaned_text.apply(lambda x: beh_infer_vector(x))\n",
    "test[\"emo_vec\"] = test.cleaned_text.apply(lambda x: emo_infer_freq(x))"
   ]
  },
  {
   "cell_type": "code",
   "execution_count": 54,
   "metadata": {},
   "outputs": [],
   "source": [
    "test[\"doc_label\"] = test.doc_vec.apply(lambda x: model_doc.predict(x.reshape(1, -1))[0])"
   ]
  },
  {
   "cell_type": "code",
   "execution_count": 55,
   "metadata": {},
   "outputs": [],
   "source": [
    "test[\"beh_label\"] = test.beh_vec.apply(lambda x: model_beh.predict(x.reshape(1, -1))[0])"
   ]
  },
  {
   "cell_type": "code",
   "execution_count": 48,
   "metadata": {},
   "outputs": [],
   "source": [
    "test[\"emo_label\"] = test.emo_vec.apply(lambda x: model_emo.predict([x])[0])"
   ]
  },
  {
   "cell_type": "code",
   "execution_count": 51,
   "metadata": {},
   "outputs": [],
   "source": [
    "def finalize(a, b, c):\n",
    "    li = [a, b, c]\n",
    "    \n",
    "    def most_frequent(List): \n",
    "        counter = 0\n",
    "        num = List[0] \n",
    "      \n",
    "        for i in List: \n",
    "            curr_frequency = List.count(i) \n",
    "            if(curr_frequency> counter): \n",
    "                counter = curr_frequency \n",
    "                num = i \n",
    "  \n",
    "        return num\n",
    "\n",
    "    return most_frequent(li)"
   ]
  },
  {
   "cell_type": "code",
   "execution_count": 62,
   "metadata": {},
   "outputs": [
    {
     "data": {
      "text/html": [
       "<div>\n",
       "<style scoped>\n",
       "    .dataframe tbody tr th:only-of-type {\n",
       "        vertical-align: middle;\n",
       "    }\n",
       "\n",
       "    .dataframe tbody tr th {\n",
       "        vertical-align: top;\n",
       "    }\n",
       "\n",
       "    .dataframe thead th {\n",
       "        text-align: right;\n",
       "    }\n",
       "</style>\n",
       "<table border=\"1\" class=\"dataframe\">\n",
       "  <thead>\n",
       "    <tr style=\"text-align: right;\">\n",
       "      <th></th>\n",
       "      <th>narrative</th>\n",
       "      <th>label</th>\n",
       "      <th>cleaned_text</th>\n",
       "      <th>behavior</th>\n",
       "      <th>emotion</th>\n",
       "      <th>emotion_array</th>\n",
       "      <th>doc_vec</th>\n",
       "      <th>beh_vec</th>\n",
       "      <th>emo_vec</th>\n",
       "      <th>doc_label</th>\n",
       "      <th>beh_label</th>\n",
       "      <th>emo_label</th>\n",
       "    </tr>\n",
       "  </thead>\n",
       "  <tbody>\n",
       "    <tr>\n",
       "      <th>3975</th>\n",
       "      <td>Over the past couple of weeks my anxiety was a...</td>\n",
       "      <td>unwell</td>\n",
       "      <td>past couple weeks anxiety low</td>\n",
       "      <td></td>\n",
       "      <td>{'fear': 0.2, 'anger': 0.2, 'anticip': 0.0, 't...</td>\n",
       "      <td>[0.2, 0.0, 0.2, 0.2, 0.0, 0.2, 0.0, 0.0, 0.0, ...</td>\n",
       "      <td>[-0.52901137, -0.1970458, -1.0356841, -0.00980...</td>\n",
       "      <td>[0.00016271167, 0.0007172979, 0.00034254458, 0...</td>\n",
       "      <td>[0.2, 0.0, 0.2, 0.2, 0.0, 0.2, 0.0, 0.0, 0.0, ...</td>\n",
       "      <td>unwell</td>\n",
       "      <td>well</td>\n",
       "      <td>unwell</td>\n",
       "    </tr>\n",
       "    <tr>\n",
       "      <th>2932</th>\n",
       "      <td>My last memory of him will be watching him smi...</td>\n",
       "      <td>unwell</td>\n",
       "      <td>last memory watching smirk cried</td>\n",
       "      <td>cried watching</td>\n",
       "      <td>{'fear': 0.0, 'anger': 0.0, 'anticip': 0.0, 't...</td>\n",
       "      <td>[1.0, 0.0, 0.0, 0.0, 0.0, 0.0, 0.0, 0.0, 0.0, ...</td>\n",
       "      <td>[0.83032066, 0.9040563, -1.0618615, 0.47434443...</td>\n",
       "      <td>[-0.05315947, -0.027775932, -0.07356696, -0.00...</td>\n",
       "      <td>[1.0, 0.0, 0.0, 0.0, 0.0, 0.0, 0.0, 0.0, 0.0, ...</td>\n",
       "      <td>well</td>\n",
       "      <td>well</td>\n",
       "      <td>unwell</td>\n",
       "    </tr>\n",
       "  </tbody>\n",
       "</table>\n",
       "</div>"
      ],
      "text/plain": [
       "                                              narrative   label  \\\n",
       "3975  Over the past couple of weeks my anxiety was a...  unwell   \n",
       "2932  My last memory of him will be watching him smi...  unwell   \n",
       "\n",
       "                          cleaned_text         behavior  \\\n",
       "3975     past couple weeks anxiety low                    \n",
       "2932  last memory watching smirk cried  cried watching    \n",
       "\n",
       "                                                emotion  \\\n",
       "3975  {'fear': 0.2, 'anger': 0.2, 'anticip': 0.0, 't...   \n",
       "2932  {'fear': 0.0, 'anger': 0.0, 'anticip': 0.0, 't...   \n",
       "\n",
       "                                          emotion_array  \\\n",
       "3975  [0.2, 0.0, 0.2, 0.2, 0.0, 0.2, 0.0, 0.0, 0.0, ...   \n",
       "2932  [1.0, 0.0, 0.0, 0.0, 0.0, 0.0, 0.0, 0.0, 0.0, ...   \n",
       "\n",
       "                                                doc_vec  \\\n",
       "3975  [-0.52901137, -0.1970458, -1.0356841, -0.00980...   \n",
       "2932  [0.83032066, 0.9040563, -1.0618615, 0.47434443...   \n",
       "\n",
       "                                                beh_vec  \\\n",
       "3975  [0.00016271167, 0.0007172979, 0.00034254458, 0...   \n",
       "2932  [-0.05315947, -0.027775932, -0.07356696, -0.00...   \n",
       "\n",
       "                                                emo_vec doc_label beh_label  \\\n",
       "3975  [0.2, 0.0, 0.2, 0.2, 0.0, 0.2, 0.0, 0.0, 0.0, ...    unwell      well   \n",
       "2932  [1.0, 0.0, 0.0, 0.0, 0.0, 0.0, 0.0, 0.0, 0.0, ...      well      well   \n",
       "\n",
       "     emo_label  \n",
       "3975    unwell  \n",
       "2932    unwell  "
      ]
     },
     "execution_count": 62,
     "metadata": {},
     "output_type": "execute_result"
    }
   ],
   "source": [
    "test.head(2)"
   ]
  },
  {
   "cell_type": "code",
   "execution_count": 66,
   "metadata": {},
   "outputs": [],
   "source": [
    "test[\"final\"] = test.apply(lambda x: finalize(x.doc_label, x.beh_label, x.emo_label), axis=1)"
   ]
  },
  {
   "cell_type": "code",
   "execution_count": 69,
   "metadata": {},
   "outputs": [
    {
     "name": "stdout",
     "output_type": "stream",
     "text": [
      "              precision    recall  f1-score   support\n",
      "\n",
      "      unwell       0.94      0.79      0.85       718\n",
      "        well       0.81      0.94      0.87       708\n",
      "\n",
      "    accuracy                           0.87      1426\n",
      "   macro avg       0.87      0.87      0.86      1426\n",
      "weighted avg       0.88      0.87      0.86      1426\n",
      "\n"
     ]
    }
   ],
   "source": [
    "print(classification_report(test.label, test.final))"
   ]
  },
  {
   "cell_type": "code",
   "execution_count": null,
   "metadata": {},
   "outputs": [],
   "source": []
  }
 ],
 "metadata": {
  "kernelspec": {
   "display_name": "Python 3",
   "language": "python",
   "name": "python3"
  },
  "language_info": {
   "codemirror_mode": {
    "name": "ipython",
    "version": 3
   },
   "file_extension": ".py",
   "mimetype": "text/x-python",
   "name": "python",
   "nbconvert_exporter": "python",
   "pygments_lexer": "ipython3",
   "version": "3.9.1"
  }
 },
 "nbformat": 4,
 "nbformat_minor": 4
}
