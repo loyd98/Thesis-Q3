{
 "cells": [
  {
   "cell_type": "code",
   "execution_count": 60,
   "metadata": {},
   "outputs": [],
   "source": [
    "from nrclex import NRCLex\n",
    "\n",
    "import nltk\n",
    "import pandas as pd\n",
    "import numpy as np\n",
    "from tqdm import tqdm\n",
    "import seaborn as sns\n",
    "import matplotlib.pyplot as plt\n",
    "import joblib\n",
    "from pandarallel import pandarallel\n",
    "\n",
    "from sklearn import utils\n",
    "from sklearn.feature_extraction.text import TfidfVectorizer\n",
    "from sklearn.feature_extraction.text import TfidfTransformer\n",
    "from sklearn.linear_model import LogisticRegression\n",
    "from sklearn import model_selection, naive_bayes, svm\n",
    "from sklearn.metrics import accuracy_score\n",
    "from sklearn.preprocessing import LabelEncoder\n",
    "from sklearn.metrics import classification_report\n",
    "\n",
    "\n",
    "from nltk.tokenize import word_tokenize\n",
    "from nltk.corpus import stopwords\n",
    "stopwords = stopwords.words('english')\n",
    "\n",
    "from gensim.models.doc2vec import Doc2Vec, TaggedDocument"
   ]
  },
  {
   "cell_type": "code",
   "execution_count": 61,
   "metadata": {},
   "outputs": [],
   "source": [
    "df = pd.read_pickle(\"../FINAL_DATASET.pkl\")"
   ]
  },
  {
   "cell_type": "code",
   "execution_count": 62,
   "metadata": {},
   "outputs": [],
   "source": [
    "doc2vec = joblib.load(\"../01_svm_model.pkl\")\n",
    "behavioral = joblib.load(\"../02_svm_model.pkl\")\n",
    "emotional = joblib.load(\"../03_Emotional/03_svm_model.pkl\")\n",
    "dbow_model_beh = Doc2Vec.load('../doc2vec_first.model')\n",
    "dbow_model_doc = Doc2Vec.load('../doc2vec_second.model')"
   ]
  },
  {
   "cell_type": "code",
   "execution_count": 63,
   "metadata": {},
   "outputs": [
    {
     "data": {
      "text/html": [
       "<div>\n",
       "<style scoped>\n",
       "    .dataframe tbody tr th:only-of-type {\n",
       "        vertical-align: middle;\n",
       "    }\n",
       "\n",
       "    .dataframe tbody tr th {\n",
       "        vertical-align: top;\n",
       "    }\n",
       "\n",
       "    .dataframe thead th {\n",
       "        text-align: right;\n",
       "    }\n",
       "</style>\n",
       "<table border=\"1\" class=\"dataframe\">\n",
       "  <thead>\n",
       "    <tr style=\"text-align: right;\">\n",
       "      <th></th>\n",
       "      <th>index</th>\n",
       "      <th>narrative</th>\n",
       "      <th>label</th>\n",
       "      <th>behavioral</th>\n",
       "      <th>emotional</th>\n",
       "      <th>array</th>\n",
       "    </tr>\n",
       "  </thead>\n",
       "  <tbody>\n",
       "    <tr>\n",
       "      <th>0</th>\n",
       "      <td>5</td>\n",
       "      <td>\\nI (20 F) have been abused by different peopl...</td>\n",
       "      <td>unwell</td>\n",
       "      <td>abused very young</td>\n",
       "      <td>{'fear': 0.0, 'anger': 0.0, 'anticip': 0.0, 't...</td>\n",
       "      <td>[0.0, 0.25, 0.0, 0.0, 0.0, 0.0, 0.0, 0.0, 0.25...</td>\n",
       "    </tr>\n",
       "    <tr>\n",
       "      <th>1</th>\n",
       "      <td>6</td>\n",
       "      <td>I grew up with my dad laying on top of me when...</td>\n",
       "      <td>unwell</td>\n",
       "      <td>grew laying woke started continues continued c...</td>\n",
       "      <td>{'fear': 0.0, 'anger': 0.0, 'anticip': 0.0, 't...</td>\n",
       "      <td>[0.0, 0.3333333333333333, 0.0, 0.0, 0.33333333...</td>\n",
       "    </tr>\n",
       "    <tr>\n",
       "      <th>2</th>\n",
       "      <td>7</td>\n",
       "      <td>He would call me mommy and ask me to come wipe...</td>\n",
       "      <td>unwell</td>\n",
       "      <td>call ask come wipe</td>\n",
       "      <td>{'fear': 0.0, 'anger': 0.0, 'anticip': 0.0, 't...</td>\n",
       "      <td>[0.0, 0.0, 0.0, 0.0, 0.0, 0.0, 0.0, 0.0, 0.0, ...</td>\n",
       "    </tr>\n",
       "    <tr>\n",
       "      <th>3</th>\n",
       "      <td>9</td>\n",
       "      <td>I never did anything when he said those things...</td>\n",
       "      <td>unwell</td>\n",
       "      <td>never did said away stayed</td>\n",
       "      <td>{'fear': 0.0, 'anger': 0.0, 'anticip': 0.0, 't...</td>\n",
       "      <td>[0.0, 0.0, 0.0, 0.0, 0.0, 0.0, 0.0, 0.0, 0.0, ...</td>\n",
       "    </tr>\n",
       "    <tr>\n",
       "      <th>4</th>\n",
       "      <td>10</td>\n",
       "      <td>\\n\\nWhen I was in seventh grade I became depre...</td>\n",
       "      <td>unwell</td>\n",
       "      <td>became started</td>\n",
       "      <td>{'fear': 0.25, 'anger': 0.25, 'anticip': 0.0, ...</td>\n",
       "      <td>[0.25, 0.0, 0.25, 0.25, 0.0, 0.25, 0.0, 0.0, 0...</td>\n",
       "    </tr>\n",
       "  </tbody>\n",
       "</table>\n",
       "</div>"
      ],
      "text/plain": [
       "   index                                          narrative   label  \\\n",
       "0      5  \\nI (20 F) have been abused by different peopl...  unwell   \n",
       "1      6  I grew up with my dad laying on top of me when...  unwell   \n",
       "2      7  He would call me mommy and ask me to come wipe...  unwell   \n",
       "3      9  I never did anything when he said those things...  unwell   \n",
       "4     10  \\n\\nWhen I was in seventh grade I became depre...  unwell   \n",
       "\n",
       "                                          behavioral  \\\n",
       "0                                 abused very young    \n",
       "1  grew laying woke started continues continued c...   \n",
       "2                                call ask come wipe    \n",
       "3                        never did said away stayed    \n",
       "4                                    became started    \n",
       "\n",
       "                                           emotional  \\\n",
       "0  {'fear': 0.0, 'anger': 0.0, 'anticip': 0.0, 't...   \n",
       "1  {'fear': 0.0, 'anger': 0.0, 'anticip': 0.0, 't...   \n",
       "2  {'fear': 0.0, 'anger': 0.0, 'anticip': 0.0, 't...   \n",
       "3  {'fear': 0.0, 'anger': 0.0, 'anticip': 0.0, 't...   \n",
       "4  {'fear': 0.25, 'anger': 0.25, 'anticip': 0.0, ...   \n",
       "\n",
       "                                               array  \n",
       "0  [0.0, 0.25, 0.0, 0.0, 0.0, 0.0, 0.0, 0.0, 0.25...  \n",
       "1  [0.0, 0.3333333333333333, 0.0, 0.0, 0.33333333...  \n",
       "2  [0.0, 0.0, 0.0, 0.0, 0.0, 0.0, 0.0, 0.0, 0.0, ...  \n",
       "3  [0.0, 0.0, 0.0, 0.0, 0.0, 0.0, 0.0, 0.0, 0.0, ...  \n",
       "4  [0.25, 0.0, 0.25, 0.25, 0.0, 0.25, 0.0, 0.0, 0...  "
      ]
     },
     "execution_count": 63,
     "metadata": {},
     "output_type": "execute_result"
    }
   ],
   "source": [
    "df.head()"
   ]
  },
  {
   "cell_type": "code",
   "execution_count": 64,
   "metadata": {},
   "outputs": [],
   "source": [
    "def tokenize_text(text):\n",
    "    tokens = []\n",
    "    for sent in nltk.sent_tokenize(text):\n",
    "        for word in nltk.word_tokenize(sent):\n",
    "            if len(word) < 2:\n",
    "                continue\n",
    "            tokens.append(word.lower())\n",
    "    return tokens"
   ]
  },
  {
   "cell_type": "code",
   "execution_count": 65,
   "metadata": {},
   "outputs": [],
   "source": [
    "df[\"tokenized\"] = df.narrative.apply(lambda x: tokenize_text(x))"
   ]
  },
  {
   "cell_type": "code",
   "execution_count": 66,
   "metadata": {},
   "outputs": [],
   "source": [
    "df[\"vector_doc\"] = df.tokenized.apply(lambda x: dbow_model_doc.infer_vector(x)[0])"
   ]
  },
  {
   "cell_type": "code",
   "execution_count": 67,
   "metadata": {},
   "outputs": [],
   "source": [
    "df[\"vector_beh\"] = df.tokenized.apply(lambda x: dbow_model_beh.infer_vector(x)[0])"
   ]
  },
  {
   "cell_type": "code",
   "execution_count": 68,
   "metadata": {},
   "outputs": [],
   "source": [
    "df[\"doc2vec_predicted\"] = df.vector_doc.apply(lambda x: doc2vec.predict([x])[0])"
   ]
  },
  {
   "cell_type": "code",
   "execution_count": 69,
   "metadata": {},
   "outputs": [],
   "source": [
    "df[\"behavioral_predicted\"] = df.vector_beh.apply(lambda x: behavioral.predict([x])[0])"
   ]
  },
  {
   "cell_type": "code",
   "execution_count": 70,
   "metadata": {},
   "outputs": [],
   "source": [
    "df[\"emotional_predicted\"] = df.array.apply(lambda x: emotional.predict([x]))"
   ]
  },
  {
   "cell_type": "code",
   "execution_count": 71,
   "metadata": {},
   "outputs": [
    {
     "data": {
      "text/html": [
       "<div>\n",
       "<style scoped>\n",
       "    .dataframe tbody tr th:only-of-type {\n",
       "        vertical-align: middle;\n",
       "    }\n",
       "\n",
       "    .dataframe tbody tr th {\n",
       "        vertical-align: top;\n",
       "    }\n",
       "\n",
       "    .dataframe thead th {\n",
       "        text-align: right;\n",
       "    }\n",
       "</style>\n",
       "<table border=\"1\" class=\"dataframe\">\n",
       "  <thead>\n",
       "    <tr style=\"text-align: right;\">\n",
       "      <th></th>\n",
       "      <th>index</th>\n",
       "      <th>narrative</th>\n",
       "      <th>label</th>\n",
       "      <th>behavioral</th>\n",
       "      <th>emotional</th>\n",
       "      <th>array</th>\n",
       "      <th>tokenized</th>\n",
       "      <th>vector_doc</th>\n",
       "      <th>vector_beh</th>\n",
       "      <th>doc2vec_predicted</th>\n",
       "      <th>behavioral_predicted</th>\n",
       "      <th>emotional_predicted</th>\n",
       "    </tr>\n",
       "  </thead>\n",
       "  <tbody>\n",
       "    <tr>\n",
       "      <th>0</th>\n",
       "      <td>5</td>\n",
       "      <td>\\nI (20 F) have been abused by different peopl...</td>\n",
       "      <td>unwell</td>\n",
       "      <td>abused very young</td>\n",
       "      <td>{'fear': 0.0, 'anger': 0.0, 'anticip': 0.0, 't...</td>\n",
       "      <td>[0.0, 0.25, 0.0, 0.0, 0.0, 0.0, 0.0, 0.0, 0.25...</td>\n",
       "      <td>[20, have, been, abused, by, different, people...</td>\n",
       "      <td>[0.012846371, -0.08506929, -0.07072686, -0.012...</td>\n",
       "      <td>[-0.18715128, 0.07399863, -0.17872168, -0.1661...</td>\n",
       "      <td>[unwell]</td>\n",
       "      <td>[well]</td>\n",
       "      <td>[well]</td>\n",
       "    </tr>\n",
       "    <tr>\n",
       "      <th>1</th>\n",
       "      <td>6</td>\n",
       "      <td>I grew up with my dad laying on top of me when...</td>\n",
       "      <td>unwell</td>\n",
       "      <td>grew laying woke started continues continued c...</td>\n",
       "      <td>{'fear': 0.0, 'anger': 0.0, 'anticip': 0.0, 't...</td>\n",
       "      <td>[0.0, 0.3333333333333333, 0.0, 0.0, 0.33333333...</td>\n",
       "      <td>[grew, up, with, my, dad, laying, on, top, of,...</td>\n",
       "      <td>[0.0058108703, -0.12144101, -0.10623647, -0.00...</td>\n",
       "      <td>[-0.5442939, -0.13103275, -0.2532134, -0.41732...</td>\n",
       "      <td>[unwell]</td>\n",
       "      <td>[unwell]</td>\n",
       "      <td>[well]</td>\n",
       "    </tr>\n",
       "    <tr>\n",
       "      <th>2</th>\n",
       "      <td>7</td>\n",
       "      <td>He would call me mommy and ask me to come wipe...</td>\n",
       "      <td>unwell</td>\n",
       "      <td>call ask come wipe</td>\n",
       "      <td>{'fear': 0.0, 'anger': 0.0, 'anticip': 0.0, 't...</td>\n",
       "      <td>[0.0, 0.0, 0.0, 0.0, 0.0, 0.0, 0.0, 0.0, 0.0, ...</td>\n",
       "      <td>[he, would, call, me, mommy, and, ask, me, to,...</td>\n",
       "      <td>[0.00891198, -0.07894919, -0.065649904, -0.008...</td>\n",
       "      <td>[-0.116394244, 0.18037713, -0.21665742, -0.126...</td>\n",
       "      <td>[unwell]</td>\n",
       "      <td>[well]</td>\n",
       "      <td>[well]</td>\n",
       "    </tr>\n",
       "    <tr>\n",
       "      <th>3</th>\n",
       "      <td>9</td>\n",
       "      <td>I never did anything when he said those things...</td>\n",
       "      <td>unwell</td>\n",
       "      <td>never did said away stayed</td>\n",
       "      <td>{'fear': 0.0, 'anger': 0.0, 'anticip': 0.0, 't...</td>\n",
       "      <td>[0.0, 0.0, 0.0, 0.0, 0.0, 0.0, 0.0, 0.0, 0.0, ...</td>\n",
       "      <td>[never, did, anything, when, he, said, those, ...</td>\n",
       "      <td>[0.016087206, -0.08783096, -0.07025361, -0.017...</td>\n",
       "      <td>[-0.3267334, 0.32563692, -0.46998626, -0.32578...</td>\n",
       "      <td>[unwell]</td>\n",
       "      <td>[unwell]</td>\n",
       "      <td>[well]</td>\n",
       "    </tr>\n",
       "    <tr>\n",
       "      <th>4</th>\n",
       "      <td>10</td>\n",
       "      <td>\\n\\nWhen I was in seventh grade I became depre...</td>\n",
       "      <td>unwell</td>\n",
       "      <td>became started</td>\n",
       "      <td>{'fear': 0.25, 'anger': 0.25, 'anticip': 0.0, ...</td>\n",
       "      <td>[0.25, 0.0, 0.25, 0.25, 0.0, 0.25, 0.0, 0.0, 0...</td>\n",
       "      <td>[when, was, in, seventh, grade, became, depres...</td>\n",
       "      <td>[0.012577527, -0.0782866, -0.061359443, -0.013...</td>\n",
       "      <td>[0.10743977, -0.032537453, 0.09743308, 0.09312...</td>\n",
       "      <td>[unwell]</td>\n",
       "      <td>[well]</td>\n",
       "      <td>[unwell]</td>\n",
       "    </tr>\n",
       "  </tbody>\n",
       "</table>\n",
       "</div>"
      ],
      "text/plain": [
       "   index                                          narrative   label  \\\n",
       "0      5  \\nI (20 F) have been abused by different peopl...  unwell   \n",
       "1      6  I grew up with my dad laying on top of me when...  unwell   \n",
       "2      7  He would call me mommy and ask me to come wipe...  unwell   \n",
       "3      9  I never did anything when he said those things...  unwell   \n",
       "4     10  \\n\\nWhen I was in seventh grade I became depre...  unwell   \n",
       "\n",
       "                                          behavioral  \\\n",
       "0                                 abused very young    \n",
       "1  grew laying woke started continues continued c...   \n",
       "2                                call ask come wipe    \n",
       "3                        never did said away stayed    \n",
       "4                                    became started    \n",
       "\n",
       "                                           emotional  \\\n",
       "0  {'fear': 0.0, 'anger': 0.0, 'anticip': 0.0, 't...   \n",
       "1  {'fear': 0.0, 'anger': 0.0, 'anticip': 0.0, 't...   \n",
       "2  {'fear': 0.0, 'anger': 0.0, 'anticip': 0.0, 't...   \n",
       "3  {'fear': 0.0, 'anger': 0.0, 'anticip': 0.0, 't...   \n",
       "4  {'fear': 0.25, 'anger': 0.25, 'anticip': 0.0, ...   \n",
       "\n",
       "                                               array  \\\n",
       "0  [0.0, 0.25, 0.0, 0.0, 0.0, 0.0, 0.0, 0.0, 0.25...   \n",
       "1  [0.0, 0.3333333333333333, 0.0, 0.0, 0.33333333...   \n",
       "2  [0.0, 0.0, 0.0, 0.0, 0.0, 0.0, 0.0, 0.0, 0.0, ...   \n",
       "3  [0.0, 0.0, 0.0, 0.0, 0.0, 0.0, 0.0, 0.0, 0.0, ...   \n",
       "4  [0.25, 0.0, 0.25, 0.25, 0.0, 0.25, 0.0, 0.0, 0...   \n",
       "\n",
       "                                           tokenized  \\\n",
       "0  [20, have, been, abused, by, different, people...   \n",
       "1  [grew, up, with, my, dad, laying, on, top, of,...   \n",
       "2  [he, would, call, me, mommy, and, ask, me, to,...   \n",
       "3  [never, did, anything, when, he, said, those, ...   \n",
       "4  [when, was, in, seventh, grade, became, depres...   \n",
       "\n",
       "                                          vector_doc  \\\n",
       "0  [0.012846371, -0.08506929, -0.07072686, -0.012...   \n",
       "1  [0.0058108703, -0.12144101, -0.10623647, -0.00...   \n",
       "2  [0.00891198, -0.07894919, -0.065649904, -0.008...   \n",
       "3  [0.016087206, -0.08783096, -0.07025361, -0.017...   \n",
       "4  [0.012577527, -0.0782866, -0.061359443, -0.013...   \n",
       "\n",
       "                                          vector_beh doc2vec_predicted  \\\n",
       "0  [-0.18715128, 0.07399863, -0.17872168, -0.1661...          [unwell]   \n",
       "1  [-0.5442939, -0.13103275, -0.2532134, -0.41732...          [unwell]   \n",
       "2  [-0.116394244, 0.18037713, -0.21665742, -0.126...          [unwell]   \n",
       "3  [-0.3267334, 0.32563692, -0.46998626, -0.32578...          [unwell]   \n",
       "4  [0.10743977, -0.032537453, 0.09743308, 0.09312...          [unwell]   \n",
       "\n",
       "  behavioral_predicted emotional_predicted  \n",
       "0               [well]              [well]  \n",
       "1             [unwell]              [well]  \n",
       "2               [well]              [well]  \n",
       "3             [unwell]              [well]  \n",
       "4               [well]            [unwell]  "
      ]
     },
     "execution_count": 71,
     "metadata": {},
     "output_type": "execute_result"
    }
   ],
   "source": [
    "df.head()"
   ]
  },
  {
   "cell_type": "code",
   "execution_count": 72,
   "metadata": {},
   "outputs": [
    {
     "ename": "TypeError",
     "evalue": "unhashable type: 'numpy.ndarray'",
     "output_type": "error",
     "traceback": [
      "\u001b[0;31m---------------------------------------------------------------------------\u001b[0m",
      "\u001b[0;31mTypeError\u001b[0m                                 Traceback (most recent call last)",
      "\u001b[0;32mpandas/_libs/hashtable_class_helper.pxi\u001b[0m in \u001b[0;36mpandas._libs.hashtable.PyObjectHashTable.map_locations\u001b[0;34m()\u001b[0m\n",
      "\u001b[0;31mTypeError\u001b[0m: unhashable type: 'numpy.ndarray'"
     ]
    },
    {
     "name": "stderr",
     "output_type": "stream",
     "text": [
      "Exception ignored in: 'pandas._libs.index.IndexEngine._call_map_locations'\n",
      "Traceback (most recent call last):\n",
      "  File \"pandas/_libs/hashtable_class_helper.pxi\", line 4588, in pandas._libs.hashtable.PyObjectHashTable.map_locations\n",
      "TypeError: unhashable type: 'numpy.ndarray'\n"
     ]
    },
    {
     "data": {
      "text/plain": [
       "[unwell]    4751\n",
       "[unwell]       1\n",
       "Name: doc2vec_predicted, dtype: int64"
      ]
     },
     "execution_count": 72,
     "metadata": {},
     "output_type": "execute_result"
    }
   ],
   "source": [
    "df[\"doc2vec_predicted\"].value_counts()"
   ]
  },
  {
   "cell_type": "code",
   "execution_count": 73,
   "metadata": {},
   "outputs": [
    {
     "ename": "TypeError",
     "evalue": "unhashable type: 'numpy.ndarray'",
     "output_type": "error",
     "traceback": [
      "\u001b[0;31m---------------------------------------------------------------------------\u001b[0m",
      "\u001b[0;31mTypeError\u001b[0m                                 Traceback (most recent call last)",
      "\u001b[0;32mpandas/_libs/hashtable_class_helper.pxi\u001b[0m in \u001b[0;36mpandas._libs.hashtable.PyObjectHashTable.map_locations\u001b[0;34m()\u001b[0m\n",
      "\u001b[0;31mTypeError\u001b[0m: unhashable type: 'numpy.ndarray'"
     ]
    },
    {
     "name": "stderr",
     "output_type": "stream",
     "text": [
      "Exception ignored in: 'pandas._libs.index.IndexEngine._call_map_locations'\n",
      "Traceback (most recent call last):\n",
      "  File \"pandas/_libs/hashtable_class_helper.pxi\", line 4588, in pandas._libs.hashtable.PyObjectHashTable.map_locations\n",
      "TypeError: unhashable type: 'numpy.ndarray'\n"
     ]
    },
    {
     "data": {
      "text/plain": [
       "[well]      3628\n",
       "[unwell]    1123\n",
       "[well]         1\n",
       "Name: behavioral_predicted, dtype: int64"
      ]
     },
     "execution_count": 73,
     "metadata": {},
     "output_type": "execute_result"
    }
   ],
   "source": [
    "df[\"behavioral_predicted\"].value_counts()"
   ]
  },
  {
   "cell_type": "code",
   "execution_count": 74,
   "metadata": {},
   "outputs": [
    {
     "ename": "TypeError",
     "evalue": "unhashable type: 'numpy.ndarray'",
     "output_type": "error",
     "traceback": [
      "\u001b[0;31m---------------------------------------------------------------------------\u001b[0m",
      "\u001b[0;31mTypeError\u001b[0m                                 Traceback (most recent call last)",
      "\u001b[0;32mpandas/_libs/hashtable_class_helper.pxi\u001b[0m in \u001b[0;36mpandas._libs.hashtable.PyObjectHashTable.map_locations\u001b[0;34m()\u001b[0m\n",
      "\u001b[0;31mTypeError\u001b[0m: unhashable type: 'numpy.ndarray'"
     ]
    },
    {
     "name": "stderr",
     "output_type": "stream",
     "text": [
      "Exception ignored in: 'pandas._libs.index.IndexEngine._call_map_locations'\n",
      "Traceback (most recent call last):\n",
      "  File \"pandas/_libs/hashtable_class_helper.pxi\", line 4588, in pandas._libs.hashtable.PyObjectHashTable.map_locations\n",
      "TypeError: unhashable type: 'numpy.ndarray'\n"
     ]
    },
    {
     "data": {
      "text/plain": [
       "[well]      3138\n",
       "[unwell]    1613\n",
       "[well]         1\n",
       "Name: emotional_predicted, dtype: int64"
      ]
     },
     "execution_count": 74,
     "metadata": {},
     "output_type": "execute_result"
    }
   ],
   "source": [
    "df[\"emotional_predicted\"].value_counts()"
   ]
  },
  {
   "cell_type": "code",
   "execution_count": 75,
   "metadata": {},
   "outputs": [
    {
     "ename": "NameError",
     "evalue": "name 'dbow_model' is not defined",
     "output_type": "error",
     "traceback": [
      "\u001b[0;31m---------------------------------------------------------------------------\u001b[0m",
      "\u001b[0;31mNameError\u001b[0m                                 Traceback (most recent call last)",
      "\u001b[0;32m<ipython-input-75-067aa59e4372>\u001b[0m in \u001b[0;36m<module>\u001b[0;34m\u001b[0m\n\u001b[0;32m----> 1\u001b[0;31m \u001b[0mdoc2vec\u001b[0m\u001b[0;34m.\u001b[0m\u001b[0mpredict\u001b[0m\u001b[0;34m(\u001b[0m\u001b[0;34m[\u001b[0m\u001b[0mdbow_model\u001b[0m\u001b[0;34m.\u001b[0m\u001b[0minfer_vector\u001b[0m\u001b[0;34m(\u001b[0m\u001b[0mtokenize_text\u001b[0m\u001b[0;34m(\u001b[0m\u001b[0;34m\"I am raped\"\u001b[0m\u001b[0;34m)\u001b[0m\u001b[0;34m,\u001b[0m \u001b[0mepochs\u001b[0m\u001b[0;34m=\u001b[0m\u001b[0;36m400\u001b[0m\u001b[0;34m)\u001b[0m\u001b[0;34m]\u001b[0m\u001b[0;34m)\u001b[0m\u001b[0;34m\u001b[0m\u001b[0;34m\u001b[0m\u001b[0m\n\u001b[0m",
      "\u001b[0;31mNameError\u001b[0m: name 'dbow_model' is not defined"
     ]
    }
   ],
   "source": [
    "doc2vec.predict([dbow_model.infer_vector(tokenize_text(\"I am raped\"), epochs=400)])"
   ]
  },
  {
   "cell_type": "code",
   "execution_count": null,
   "metadata": {},
   "outputs": [],
   "source": [
    "doc2vec"
   ]
  },
  {
   "cell_type": "code",
   "execution_count": null,
   "metadata": {},
   "outputs": [],
   "source": []
  }
 ],
 "metadata": {
  "kernelspec": {
   "display_name": "Python 3",
   "language": "python",
   "name": "python3"
  },
  "language_info": {
   "codemirror_mode": {
    "name": "ipython",
    "version": 3
   },
   "file_extension": ".py",
   "mimetype": "text/x-python",
   "name": "python",
   "nbconvert_exporter": "python",
   "pygments_lexer": "ipython3",
   "version": "3.9.1"
  }
 },
 "nbformat": 4,
 "nbformat_minor": 4
}
